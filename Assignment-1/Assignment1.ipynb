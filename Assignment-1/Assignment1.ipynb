{
 "cells": [
  {
   "cell_type": "markdown",
   "metadata": {
    "id": "RKboZnAdgrRM"
   },
   "source": [
    "# [NLP] Assignment 1: Tokenization\n",
    "\n",
    "In this assignment, you need to tokenize the text of the Twitter(X) users posts(tweets). The assignment consists of two tasks. When you finish all the tasks, create a GitHub repository for this assignment (you can use this repo later for the other assignments) and submit this notebook in the repository. Leave `requirements.txt` file if your code requires additional installations. Submit the link to the repository in Moodle.\n",
    "\n",
    "The [data](https://drive.google.com/file/d/15x_wPAflvYQ2Xh38iNQGrqUIWLj5l5Nw/view?usp=share_link) contains 5 files whereby each contains 44 tweets. Each tweet is separated by a newline."
   ]
  },
  {
   "cell_type": "markdown",
   "source": [
    "## Reading the data"
   ],
   "metadata": {
    "collapsed": false
   }
  },
  {
   "cell_type": "code",
   "outputs": [],
   "source": [
    "import os\n",
    "\n",
    "paths_to_files = os.listdir('data/tweets')\n",
    "\n",
    "files_data = dict()\n",
    "\n",
    "for file_path in paths_to_files:\n",
    "    with open(f'data/tweets/{file_path}', 'r') as file:\n",
    "        files_data[file_path] = file.readlines()"
   ],
   "metadata": {
    "collapsed": false,
    "ExecuteTime": {
     "end_time": "2024-02-07T23:13:39.614859Z",
     "start_time": "2024-02-07T23:13:39.596630Z"
    }
   },
   "execution_count": 1
  },
  {
   "cell_type": "markdown",
   "metadata": {
    "id": "aLDjjAvemUP_"
   },
   "source": [
    "## Task 1. Tokenize some tweets manually (20 points)\n",
    "\n",
    "As a first task you need to tokenize first 15 tweets from `file2` by hand. This will allow you to understand the problem from a linguistic point of view. The guidelines for tweet tokenization are as follows:\n",
    "\n",
    "- Each smiley is a separate token\n",
    "- Each hashtag is an individual token. Each user reference is an individual token\n",
    "- If a word has spaces between them then it is converted to a single token\n",
    "- All punctuations are individual tokens. This includes double-quotes and single quotes also\n",
    "- A URL is a single token\n",
    "\n",
    "Example of output\n",
    "\n",
    "    Input tweet\n",
    "    @xfranman Old age has made N A T O!\n",
    "\n",
    "    Tokenized tweet (separated by comma)\n",
    "    @xfranman , Old , age , has , made , NATO , !"
   ]
  },
  {
   "cell_type": "markdown",
   "metadata": {
    "id": "7KKKwTidnzUw"
   },
   "source": [
    "\n",
    "    1. Input tweet\n",
    "    ...\n",
    "    1. Tokenized tweet\n",
    "    ...\n",
    "\n",
    "    2. Input tweet\n",
    "    ...\n",
    "    2. Tokenized tweet\n",
    "    ..."
   ]
  },
  {
   "cell_type": "markdown",
   "source": [
    "### Solution"
   ],
   "metadata": {
    "collapsed": false
   }
  },
  {
   "cell_type": "code",
   "outputs": [],
   "source": [
    "tweets = files_data['file2'][:15]"
   ],
   "metadata": {
    "collapsed": false,
    "ExecuteTime": {
     "end_time": "2024-02-07T23:13:39.619738Z",
     "start_time": "2024-02-07T23:13:39.616501Z"
    }
   },
   "execution_count": 2
  },
  {
   "cell_type": "code",
   "outputs": [],
   "source": [
    "import re\n",
    "\n",
    "# Reference: https://stackoverflow.com/a/28077780\n",
    "smiley_re = re.compile(\n",
    "    r\"(\\:\\w+\\:|\\<[\\/\\\\]?3|[\\(\\)\\\\\\D|\\*\\$][\\-\\^]?[\\:\\;\\=]|[\\:\\;\\=B8][\\-\\^]?[3DOPp\\@\\$\\*\\\\\\)\\(\\/\\|])(?=\\s|[\\!\\.\\?]|$)\")\n",
    "\n",
    "\n",
    "def tokenize_tweet_by_hand(tweet: str) -> str:\n",
    "    raw_tokens = tweet.strip().split()\n",
    "\n",
    "    tokens = []\n",
    "    for token in raw_tokens:\n",
    "        if token.startswith('http://') or token.startswith(\"#\") or smiley_re.match(token):\n",
    "            tokens.append(token)\n",
    "            continue\n",
    "\n",
    "        tokens.extend(re.findall(r\"[$@\\w]+|[.,!?;:\\\"\\'-/>]|<\\-\\-\\-\", token))\n",
    "\n",
    "    return tokens"
   ],
   "metadata": {
    "collapsed": false,
    "ExecuteTime": {
     "end_time": "2024-02-07T23:13:39.632812Z",
     "start_time": "2024-02-07T23:13:39.620524Z"
    }
   },
   "execution_count": 3
  },
  {
   "cell_type": "code",
   "outputs": [
    {
     "name": "stdout",
     "output_type": "stream",
     "text": [
      "1. Input tweet\n",
      "Camping in Maine for the weekend. Hey Dad, Mama Loves YOU: http://www.mamapalooza.com\n",
      "1. Tokenized tweet\n",
      "Camping , in , Maine , for , the , weekend , . , Hey , Dad , , , Mama , Loves , YOU , : , http://www.mamapalooza.com\n",
      "\n",
      "2. Input tweet\n",
      "Its american tradition bitch\n",
      "2. Tokenized tweet\n",
      "Its , american , tradition , bitch\n",
      "\n",
      "3. Input tweet\n",
      "@ThroughTheVoid They love it! The only pleasure they get in life. I actually do that. I'm sure I hear a tiny squeak... Then louder ones\n",
      "3. Tokenized tweet\n",
      "@ThroughTheVoid , They , love , it , ! , The , only , pleasure , they , get , in , life , . , I , actually , do , that , . , I , ' , m , sure , I , hear , a , tiny , squeak , . , . , . , Then , louder , ones\n",
      "\n",
      "4. Input tweet\n",
      "\" RT @latti: @AbsoHilare stop tweeting in church! Lol <--- \"\"I tweet because I'm happy, I tweet because I'm free\"\" LOL!\"\n",
      "4. Tokenized tweet\n",
      "\" , RT , @latti , : , @AbsoHilare , stop , tweeting , in , church , ! , Lol , <--- , \" , \" , I , tweet , because , I , ' , m , happy , , , I , tweet , because , I , ' , m , free , \" , \" , LOL , ! , \"\n",
      "\n",
      "5. Input tweet\n",
      "Samsung Mini S2 portable HDD graced with colors that perfectly match your tacky beach gear: Sammy's done it aga.. http://tinyurl.com/lb5p6m\n",
      "5. Tokenized tweet\n",
      "Samsung , Mini , S2 , portable , HDD , graced , with , colors , that , perfectly , match , your , tacky , beach , gear , : , Sammy , ' , s , done , it , aga , . , . , http://tinyurl.com/lb5p6m\n",
      "\n",
      "6. Input tweet\n",
      "@dialloc congrats on finding your way over. it may be slow going at first. hang in there. it's kinda cool when u get up to speed.\n",
      "6. Tokenized tweet\n",
      "@dialloc , congrats , on , finding , your , way , over , . , it , may , be , slow , going , at , first , . , hang , in , there , . , it , ' , s , kinda , cool , when , u , get , up , to , speed , .\n",
      "\n",
      "7. Input tweet\n",
      "iPhone activation delays continue, Apple offers $30 http://twt.gs/l3Ki\n",
      "7. Tokenized tweet\n",
      "iPhone , activation , delays , continue , , , Apple , offers , $30 , http://twt.gs/l3Ki\n",
      "\n",
      "8. Input tweet\n",
      "RT @GoogleAtWork Gmail maximum attachment size now 25MB http://bit.ly/62mjw Nice!!!\n",
      "8. Tokenized tweet\n",
      "RT , @GoogleAtWork , Gmail , maximum , attachment , size , now , 25MB , http://bit.ly/62mjw , Nice , ! , ! , !\n",
      "\n",
      "9. Input tweet\n",
      "RT @acfou The Ads Won Awards for Crispin; But Did Nothing for Client BurgerKing's Sales/Marketshare - Big Surprise - http://ping.fm/vw8TI\n",
      "9. Tokenized tweet\n",
      "RT , @acfou , The , Ads , Won , Awards , for , Crispin , ; , But , Did , Nothing , for , Client , BurgerKing , ' , s , Sales , / , Marketshare , - , Big , Surprise , - , http://ping.fm/vw8TI\n",
      "\n",
      "10. Input tweet\n",
      "Hey doll! Great I missed True Blood yday boo lol Rt @FrankBanuat78 @jhillstephens Hello Sunshine how are u today? :-)\n",
      "10. Tokenized tweet\n",
      "Hey , doll , ! , Great , I , missed , True , Blood , yday , boo , lol , Rt , @FrankBanuat78 , @jhillstephens , Hello , Sunshine , how , are , u , today , ? , :-)\n",
      "\n",
      "11. Input tweet\n",
      "Australian artist Pogo made these free songs primarily from sampled audio from Alice In Wonderland. http://www.last.fm/music/Pogo/Wonderland\n",
      "11. Tokenized tweet\n",
      "Australian , artist , Pogo , made , these , free , songs , primarily , from , sampled , audio , from , Alice , In , Wonderland , . , http://www.last.fm/music/Pogo/Wonderland\n",
      "\n",
      "12. Input tweet\n",
      "@mppritchard they wanted to sell all the preorders & then sell all of the ones they had in stock to those that just walked in. Can't do both\n",
      "12. Tokenized tweet\n",
      "@mppritchard , they , wanted , to , sell , all , the , preorders , then , sell , all , of , the , ones , they , had , in , stock , to , those , that , just , walked , in , . , Can , ' , t , do , both\n",
      "\n",
      "13. Input tweet\n",
      "Incoming: Frightened Rabbit, Sept. 22 (Tucson): If Fat Cat Records is going to send three great bands from Scot.. http://tinyurl.com/nz6xcv\n",
      "13. Tokenized tweet\n",
      "Incoming , : , Frightened , Rabbit , , , Sept , . , 22 , ( , Tucson , ) , : , If , Fat , Cat , Records , is , going , to , send , three , great , bands , from , Scot , . , . , http://tinyurl.com/nz6xcv\n",
      "\n",
      "14. Input tweet\n",
      "Hey @ginoandfran please greet philip! (GinoandFran live > http://ustre.am/2YyQ)\n",
      "14. Tokenized tweet\n",
      "Hey , @ginoandfran , please , greet , philip , ! , ( , GinoandFran , live , > , http://ustre.am/2YyQ)\n",
      "\n",
      "15. Input tweet\n",
      "Ik weet niet wie er achter de T-Mobile iPhone Twitter zit maar ik vind het niet echt 'corporate' taalgebruik... Best vreemd eigenlijk\n",
      "15. Tokenized tweet\n",
      "Ik , weet , niet , wie , er , achter , de , T , - , Mobile , iPhone , Twitter , zit , maar , ik , vind , het , niet , echt , ' , corporate , ' , taalgebruik , . , . , . , Best , vreemd , eigenlijk\n"
     ]
    }
   ],
   "source": [
    "for i, tweet in enumerate(tweets):\n",
    "    print(f'{i + 1}. Input tweet\\n{tweet}', end='')\n",
    "    print(f'{i + 1}. Tokenized tweet\\n{\" , \".join(tokenize_tweet_by_hand(tweet))}\\n')"
   ],
   "metadata": {
    "collapsed": false,
    "ExecuteTime": {
     "end_time": "2024-02-07T23:13:39.633186Z",
     "start_time": "2024-02-07T23:13:39.623898Z"
    }
   },
   "execution_count": 4
  },
  {
   "cell_type": "markdown",
   "metadata": {
    "id": "-2J2AD2nmUhi"
   },
   "source": [
    "## Task 2. Implement [Byte-Pair Encoding(BPE)](https://arxiv.org/pdf/1508.07909.pdf) Tokenizer (80 points)\n",
    "\n",
    "### Task 2.1. Implementation (60 points)\n",
    "\n",
    "Implement the tokenizer as the BPETokenizer class:\n",
    "* Implement `train` method that learns merges and builds the vocabulary of the specified `vocab_size` (25 points).\n",
    "* Implement `tokenize` method that should tokenize the text according to the learnt merges (25 points).\n",
    "\n",
    "Your code should have docstrings and comments (10 points)."
   ]
  },
  {
   "cell_type": "code",
   "execution_count": 5,
   "metadata": {
    "ExecuteTime": {
     "end_time": "2024-02-07T23:13:39.634787Z",
     "start_time": "2024-02-07T23:13:39.632433Z"
    }
   },
   "outputs": [],
   "source": [
    "from typing import List\n",
    "from collections import Counter\n",
    "\n",
    "\n",
    "class BPETokenizer:\n",
    "    \"\"\"\n",
    "    Byte-Pair Encoding Tokenizer\n",
    "    \"\"\"\n",
    "\n",
    "    def __init__(self, vocab_size: int) -> None:\n",
    "        \"\"\"\n",
    "        Initializing the tokenizer. \n",
    "        :param vocab_size: controls the target vocabulary size\n",
    "        \"\"\"\n",
    "        self.vocab_size = vocab_size\n",
    "\n",
    "        self.vocab = None\n",
    "        self.corpus = None\n",
    "\n",
    "    def preprocess_corpus(self, corpus: List[str]) -> Counter:\n",
    "        \"\"\"\n",
    "        Preprocess the corpus. Splits the words into characters and adds a special character at the end of each word.\n",
    "        :param corpus: list of texts\n",
    "        :return: Counter of the preprocessed corpus\n",
    "        \"\"\"\n",
    "        new_corpus = Counter()\n",
    "\n",
    "        for text in corpus:\n",
    "            text = text.lower().strip()\n",
    "            tokens = text.split()\n",
    "            for token in tokens:\n",
    "                new_corpus[' '.join(list(token)) + ' _'] += 1\n",
    "\n",
    "        return new_corpus\n",
    "\n",
    "    def build_vocab(self) -> Counter:\n",
    "        \"\"\"\n",
    "        Builds the vocabulary from the corpus. \n",
    "        :return: Counter of the vocabulary\n",
    "        \"\"\"\n",
    "        vocab = Counter()\n",
    "        for token in self.corpus:\n",
    "            vocab.update(token.split())\n",
    "\n",
    "        return vocab\n",
    "\n",
    "    def train(self, corpus: List[str]) -> None:\n",
    "        \"\"\"\n",
    "        Trains the tokenizer on the corpus.\n",
    "        :param corpus: list of texts\n",
    "        \"\"\"\n",
    "        self.corpus = self.preprocess_corpus(corpus)\n",
    "\n",
    "        self.vocab = self.build_vocab()\n",
    "\n",
    "        if self.vocab_size is None:\n",
    "            self.vocab_size = len(self.vocab)\n",
    "\n",
    "        while len(self.vocab) < self.vocab_size:\n",
    "            # Get the pairs and their counts\n",
    "            pairs = self._get_stats()\n",
    "            if not pairs:\n",
    "                break\n",
    "\n",
    "            # Get the most frequent pair\n",
    "            best_pair = max(pairs, key=pairs.get)\n",
    "\n",
    "            # Merge the most frequent pair\n",
    "            self._merge_vocab(best_pair)\n",
    "\n",
    "    def _get_stats(self) -> Counter:\n",
    "        \"\"\"\n",
    "        Get the statistics of the pairs in the corpus.\n",
    "        :return: Counter of the pairs\n",
    "        \"\"\"\n",
    "        pairs = Counter()\n",
    "        for token in self.corpus:\n",
    "            symbols = token.split()\n",
    "            for i in range(len(symbols) - 1):\n",
    "                pairs[symbols[i], symbols[i + 1]] += self.corpus[token]\n",
    "\n",
    "        return pairs\n",
    "\n",
    "    def _merge_vocab(self, pair: List[str]) -> None:\n",
    "        \"\"\"\n",
    "        Merges the most frequent pair in the vocabulary.\n",
    "        :param pair: pair to merge\n",
    "        \"\"\"\n",
    "        new_corpus = Counter()\n",
    "        for token in self.corpus:\n",
    "            new_token = token.replace(' '.join(pair), ''.join(pair))\n",
    "            new_corpus[new_token] = self.corpus[token]\n",
    "\n",
    "        self.corpus = new_corpus\n",
    "        self.vocab = self.build_vocab()\n",
    "\n",
    "    def tokenize(self, text: str) -> List[str]:\n",
    "        \"\"\"\n",
    "        Tokenizes the text.\n",
    "        :param text: text to tokenize\n",
    "        :return: list of tokens\n",
    "        \"\"\"\n",
    "        text = text.lower().strip()\n",
    "        tokens = text.split()\n",
    "\n",
    "        new_tokens = []\n",
    "        for token in tokens:\n",
    "            i, j = 0, 0\n",
    "            while i < len(token):\n",
    "                j = i + 1\n",
    "\n",
    "                while j <= len(token) and token[i:j] in self.vocab:\n",
    "                    j += 1\n",
    "\n",
    "                subtoken = token[i:j - 1]\n",
    "                new_tokens.append(subtoken)\n",
    "                i = j - 1\n",
    "\n",
    "        return new_tokens"
   ]
  },
  {
   "cell_type": "markdown",
   "metadata": {},
   "source": [
    "### Task 2.2. Analysis on Tweets Dataset (10 points)\n",
    "\n",
    "Train the BPE tokenizer on the tweets dataset. Try to tokenize the tweets with the tokenizer of different `vocab_size`. For example, train the BPE tokenizer with `vocab_size` of [base_vocab_size, 250, 500, 750, 1000]. Plot the dependency of the average length of the tokenized tweet by `vocab_size` to analyze how `vocab_size` affects the length of the tokenized tweet on average. Tell what `vocab_size` is preferrable and why."
   ]
  },
  {
   "cell_type": "code",
   "execution_count": 6,
   "metadata": {
    "ExecuteTime": {
     "end_time": "2024-02-07T23:13:42.116808Z",
     "start_time": "2024-02-07T23:13:39.661996Z"
    }
   },
   "outputs": [
    {
     "name": "stdout",
     "output_type": "stream",
     "text": [
      "Trained tokenizer for vocab size: 138\n",
      "Trained tokenizer for vocab size: 250\n",
      "Trained tokenizer for vocab size: 500\n",
      "Trained tokenizer for vocab size: 750\n",
      "Trained tokenizer for vocab size: 1000\n"
     ]
    }
   ],
   "source": [
    "corpus = []\n",
    "[corpus.extend(tweets) for tweets in files_data.values()]\n",
    "\n",
    "vocab_sizes = [None, 250, 500, 750, 1000]\n",
    "\n",
    "tokenized_tweets = {vocab_size: [] for vocab_size in vocab_sizes}\n",
    "\n",
    "for vocab_size in vocab_sizes:\n",
    "    tokenizer = BPETokenizer(vocab_size)\n",
    "    tokenizer.train(corpus)\n",
    "\n",
    "    if vocab_size is None:\n",
    "        vocab_size = len(tokenizer.vocab)\n",
    "        tokenized_tweets[vocab_size] = []\n",
    "\n",
    "    print(\"Trained tokenizer for vocab size:\", vocab_size)\n",
    "\n",
    "    for tweet in corpus:\n",
    "        tokenized_tweets[vocab_size].append(tokenizer.tokenize(tweet))"
   ]
  },
  {
   "cell_type": "code",
   "outputs": [
    {
     "data": {
      "text/plain": "<Figure size 640x480 with 1 Axes>",
      "image/png": "[encoded data removed]"
     },
     "metadata": {},
     "output_type": "display_data"
    }
   ],
   "source": [
    "import matplotlib.pyplot as plt\n",
    "\n",
    "avg_lengths = []\n",
    "\n",
    "for vocab_size, tweets in sorted(tokenized_tweets.items(), key=lambda x: x[0] if x[0] is not None else 0):\n",
    "    if not tweets:\n",
    "        continue\n",
    "\n",
    "    lengths = [len(tweet) for tweet in tweets]\n",
    "    avg_length = sum(lengths) / len(tweets)\n",
    "    avg_lengths.append(avg_length)\n",
    "\n",
    "plt.title('Dependency of the average length of the tokenized tweet by vocab_size')\n",
    "plt.xlabel('Vocab Size')\n",
    "plt.ylabel('Average Length')\n",
    "plt.grid()\n",
    "plt.plot(vocab_sizes, avg_lengths)\n",
    "\n",
    "plt.show()"
   ],
   "metadata": {
    "collapsed": false,
    "ExecuteTime": {
     "end_time": "2024-02-07T23:13:42.485853Z",
     "start_time": "2024-02-07T23:13:42.117657Z"
    }
   },
   "execution_count": 7
  },
  {
   "cell_type": "markdown",
   "source": [
    "#### Which `vocab_size` is preferrable and why?\n",
    "\n",
    "In my opinion, the prefferable `vocab_size` is 750. It provides a good balance between the average length of the tokenized tweet and the vocabulary size. It is not too small to lose the information and not too large to make the model overfit."
   ],
   "metadata": {
    "collapsed": false
   }
  },
  {
   "cell_type": "markdown",
   "metadata": {},
   "source": [
    "### Task 2.3. Analysis on Dataset of Different Language (10 points)\n",
    "\n",
    "Find a small dataset of texts in a language other than English. The dataset size should be not greater than several megabytes.\n",
    "\n",
    "Train the BPE tokenizer on the dataset that you found. Try to tokenize the sentences from this dataset with the tokenizer of different `vocab_size`. Plot the dependency of the average length of the tokenized sentence by `vocab_size` to analyze how `vocab_size` affects the length of the tokenized sentence on average.\n",
    "\n",
    "Tell how how the average length of the tokenized sentence differs from the average length of the tokenized tweet. Explain why. "
   ]
  },
  {
   "cell_type": "code",
   "execution_count": 8,
   "metadata": {
    "ExecuteTime": {
     "end_time": "2024-02-07T23:13:42.637371Z",
     "start_time": "2024-02-07T23:13:42.485838Z"
    }
   },
   "outputs": [],
   "source": [
    "import pandas as pd\n",
    "\n",
    "# TextComplexityDE is a dataset consisting of 1000 sentences in German language taken from 23 Wikipedia articles in 3 different article-genres\n",
    "texts_df = pd.read_csv(\"data/TextComplexityDE/source.csv\", encoding='iso-8859-1')"
   ]
  },
  {
   "cell_type": "code",
   "outputs": [],
   "source": [
    "corpus = texts_df.Sentence.values.tolist()"
   ],
   "metadata": {
    "collapsed": false,
    "ExecuteTime": {
     "end_time": "2024-02-07T23:13:42.640179Z",
     "start_time": "2024-02-07T23:13:42.638166Z"
    }
   },
   "execution_count": 9
  },
  {
   "cell_type": "code",
   "outputs": [
    {
     "name": "stdout",
     "output_type": "stream",
     "text": [
      "Trained tokenizer for vocab size: 75\n",
      "Trained tokenizer for vocab size: 250\n",
      "Trained tokenizer for vocab size: 500\n",
      "Trained tokenizer for vocab size: 750\n",
      "Trained tokenizer for vocab size: 1000\n"
     ]
    }
   ],
   "source": [
    "tokenized_texts = {vocab_size: [] for vocab_size in vocab_sizes}\n",
    "\n",
    "for vocab_size in vocab_sizes:\n",
    "    tokenizer = BPETokenizer(vocab_size)\n",
    "    tokenizer.train(corpus)\n",
    "\n",
    "    if vocab_size is None:\n",
    "        vocab_size = len(tokenizer.vocab)\n",
    "        tokenized_texts[vocab_size] = []\n",
    "\n",
    "    print(\"Trained tokenizer for vocab size:\", vocab_size)\n",
    "\n",
    "    for text in corpus:\n",
    "        tokenized_texts[vocab_size].append(tokenizer.tokenize(text))"
   ],
   "metadata": {
    "collapsed": false,
    "ExecuteTime": {
     "end_time": "2024-02-07T23:13:51.151433Z",
     "start_time": "2024-02-07T23:13:42.652980Z"
    }
   },
   "execution_count": 10
  },
  {
   "cell_type": "code",
   "outputs": [
    {
     "data": {
      "text/plain": "<Figure size 640x480 with 1 Axes>",
      "image/png": "[encoded data removed]"
     },
     "metadata": {},
     "output_type": "display_data"
    }
   ],
   "source": [
    "import matplotlib.pyplot as plt\n",
    "\n",
    "avg_lengths = []\n",
    "\n",
    "for vocab_size, texts in sorted(tokenized_texts.items(), key=lambda x: x[0] if x[0] is not None else 0):\n",
    "    if not texts:\n",
    "        continue\n",
    "\n",
    "    lengths = [len(text) for text in texts]\n",
    "    avg_length = sum(lengths) / len(texts)\n",
    "    avg_lengths.append(avg_length)\n",
    "\n",
    "plt.title('Dependency of the average length of the tokenized text by vocab_size')\n",
    "plt.xlabel('Vocab Size')\n",
    "plt.ylabel('Average Length')\n",
    "plt.grid()\n",
    "plt.plot(vocab_sizes, avg_lengths)\n",
    "\n",
    "plt.show()"
   ],
   "metadata": {
    "collapsed": false,
    "ExecuteTime": {
     "end_time": "2024-02-07T23:13:51.227276Z",
     "start_time": "2024-02-07T23:13:51.159907Z"
    }
   },
   "execution_count": 11
  },
  {
   "cell_type": "markdown",
   "source": [
    "#### How the average length of the tokenized sentence differs from the average length of the tokenized tweet?\n",
    "\n",
    "The average length of the tokenized sentence is much larger than the average length of the tokenized tweet. This is because the German language has a more complex structure than the English language. The German language has more complex words and more complex grammar. This results in a larger vocabulary and a larger average length of the tokenized sentence."
   ],
   "metadata": {
    "collapsed": false
   }
  }
 ],
 "metadata": {
  "colab": {
   "provenance": [],
   "toc_visible": true
  },
  "kernelspec": {
   "name": "python3",
   "language": "python",
   "display_name": "Python 3 (ipykernel)"
  },
  "language_info": {
   "name": "python"
  }
 },
 "nbformat": 4,
 "nbformat_minor": 0
}
